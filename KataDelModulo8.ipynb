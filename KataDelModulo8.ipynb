{
 "cells": [
  {
   "cell_type": "markdown",
   "metadata": {},
   "source": [
    "# Ejercicio 1: Creación de diccionarios de Python\n",
    "\n",
    "## Ejercicio: Crear y modificar un diccionario de Python\n",
    "\n",
    "Los diccionarios python te permiten modelar datos más complejos. Los diccionarios son una colección de pares clave/valor, y son muy comunes en los programas Python. Su flexibilidad le permite trabajar dinámicamente con valores relacionados sin tener que crear clases u objetos.\n",
    "\n",
    "Un diccionario se indica en Python mediante el uso de llaves ({ }), con pares clave/valor separados por dos puntos (:). Las claves son literales de cadena y los valores pueden ser de cualquier tipo de datos.{ }:\n",
    "\n",
    "demo = {\n",
    "    'key': 'value',\n",
    "    'number': 42\n",
    "}\n",
    "\n",
    "Para este ejercicio, crearás un diccionario que almacene información sobre el planeta Marte."
   ]
  },
  {
   "cell_type": "code",
   "execution_count": 6,
   "metadata": {},
   "outputs": [
    {
     "name": "stdout",
     "output_type": "stream",
     "text": [
      " El planeta Mars tiene 2 lunas\n"
     ]
    }
   ],
   "source": [
    "# VARIABLES A DECLARAR\n",
    "\n",
    "planet = {\n",
    "    'name': 'Mars',\n",
    "    'moons': 2\n",
    "}\n",
    "\n",
    "# COMPROBAR RESULTADOS\n",
    "print(f' El planeta {planet.get(\"name\")} tiene {planet.get(\"moons\")} lunas')"
   ]
  },
  {
   "cell_type": "code",
   "execution_count": 32,
   "metadata": {},
   "outputs": [
    {
     "name": "stdout",
     "output_type": "stream",
     "text": [
      "El planeta Mars tiene una circuferencia polar de 6752 Kilometros\n"
     ]
    }
   ],
   "source": [
    "# AGREGAR MAS DATOS\n",
    "#NO SUPE USAR EL METODO UPTADE PARA 2 VALORES\n",
    "planet['circunferencia (km)'] = {\n",
    "    'polar': 6752,\n",
    "    'equatorial': 6792\n",
    "}\n",
    "\n",
    "# COMPROBAR RESULTADOS\n",
    "#NO SUPE USAR EL METODO get PARA 1 valor dentro de 1 valor dentro del diccionario\n",
    "print(f'El planeta {planet.get(\"name\")} tiene una circuferencia polar de {planet[\"circunferencia (km)\"][\"polar\"]} Kilometros')"
   ]
  },
  {
   "cell_type": "markdown",
   "metadata": {},
   "source": [
    "# Ejercicio 2: Programación dinámica con diccionarios\n",
    "\n",
    "## Ejercicio: Cálculo de valores\n",
    "\n",
    "En este escenario, calcularás tanto el número total de lunas en el sistema solar como el número promedio de lunas que tiene un planeta."
   ]
  },
  {
   "cell_type": "code",
   "execution_count": 41,
   "metadata": {},
   "outputs": [
    {
     "name": "stdout",
     "output_type": "stream",
     "text": [
      " Las lunas son dict_values([0, 0, 1, 2, 79, 82, 27, 14, 5, 2, 1, 1])\n",
      " Los planetas son 12\n",
      " El promedio de lunas por cada planeta es de 17.833333333333332\n"
     ]
    }
   ],
   "source": [
    "#DATOS DE ENTRADA\n",
    "\n",
    "planet_moons = {\n",
    "    'mercury': 0,\n",
    "    'venus': 0,\n",
    "    'earth': 1,\n",
    "    'mars': 2,\n",
    "    'jupiter': 79,\n",
    "    'saturn': 82,\n",
    "    'uranus': 27,\n",
    "    'neptune': 14,\n",
    "    'pluto': 5,\n",
    "    'haumea': 2,\n",
    "    'makemake': 1,\n",
    "    'eris': 1\n",
    "}\n",
    "\n",
    "#PROCESO\n",
    "moons = planet_moons.values()\n",
    "#RESULTADO\n",
    "print (f' Las lunas son {moons}')\n",
    "\n",
    "\n",
    "#PROCESO\n",
    "planets = len(planet_moons.keys())\n",
    "#RESULTADO\n",
    "print (f' Los planetas son {planets}')\n",
    "\n",
    "\n",
    "#PROCESO\n",
    "total_moons = 0\n",
    "for moon in moons:\n",
    "    total_moons = total_moons + moon\n",
    "Promedio = total_moons / planets\n",
    "#RESULTADO\n",
    "print(f' El promedio de lunas por cada planeta es de {Promedio}')"
   ]
  }
 ],
 "metadata": {
  "interpreter": {
   "hash": "f83fe35de321addf61ea9aaf3f263d45fe22ebb93a9f25e9701f7dd9c9f5d317"
  },
  "kernelspec": {
   "display_name": "Python 3.10.1 64-bit",
   "language": "python",
   "name": "python3"
  },
  "language_info": {
   "codemirror_mode": {
    "name": "ipython",
    "version": 3
   },
   "file_extension": ".py",
   "mimetype": "text/x-python",
   "name": "python",
   "nbconvert_exporter": "python",
   "pygments_lexer": "ipython3",
   "version": "3.10.1"
  },
  "orig_nbformat": 4
 },
 "nbformat": 4,
 "nbformat_minor": 2
}
