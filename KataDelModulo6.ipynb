{
 "cells": [
  {
   "cell_type": "markdown",
   "metadata": {},
   "source": [
    "## Ejercicio1: Crear y usar listas de Python\n",
    "Ejercicio: Usar listas para almacenar nombres de planetas\n",
    "Las listas permiten almacenar varios valores en una sola variable. Comenzarás un proyecto sobre información planetaria creando una lista de planetas."
   ]
  },
  {
   "cell_type": "code",
   "execution_count": null,
   "metadata": {},
   "outputs": [],
   "source": [
    "# Creamos la lista planets y la mostramos\n",
    "\n",
    "Planetas = ['Mercurio', 'Venus', 'Tierra', 'Marte', 'Jupiter', 'Saturno', 'Urano', 'Neptuno']\n",
    "\n",
    "print('Existen', len(Planetas), 'planetas')\n",
    "\n",
    "# Agregamos a plutón y mostramos el último elemento\n",
    "Planetas.append('Pluton')\n",
    "\n",
    "print(Planetas[-1], 'es el ultimo planeta en la galaxia :o')"
   ]
  },
  {
   "cell_type": "markdown",
   "metadata": {},
   "source": [
    "## Ejercicio 2: Trabajando con datos de una lista\n",
    "Usar slices para recuperar partes de una lista\n",
    "Es posible que debas trabajar con diferentes secciones de una lista. En nuestro ejemplo, queremos mostrar planetas más cerca y más lejos del sol de un planeta que el usuario ingresa por teclado."
   ]
  },
  {
   "cell_type": "code",
   "execution_count": null,
   "metadata": {},
   "outputs": [],
   "source": [
    "# Lista de planetas\n",
    "\n",
    "Planetas = ['Mercurio', 'Venus', 'Tierra', 'Marte', 'Jupiter', 'Saturno', 'Urano', 'Neptuno']\n",
    "# Solicitamos el nombre de un planeta *Pista:  input()*\n",
    "planeta_busqueda = input('Escribe el nombre del planeta (Primer letra en mayuscula)')\n",
    "# Busca el planeta en la lista\n",
    "\n",
    "planet_indice = Planetas.index(planeta_busqueda)\n",
    "# Muestra los planetas más cercanos al sol\n",
    "\n",
    "print('Planetas cerca de tu planeta ' + planeta_busqueda)\n",
    "print(Planetas[0:planet_indice])\n",
    "# Muestra los planetas más lejanos al sol\n",
    "\n",
    "print('Planetas lejos de tu planeta ' + planeta_busqueda)\n",
    "print(Planetas[planet_indice + 1:])"
   ]
  }
 ],
 "metadata": {
  "interpreter": {
   "hash": "f83fe35de321addf61ea9aaf3f263d45fe22ebb93a9f25e9701f7dd9c9f5d317"
  },
  "kernelspec": {
   "display_name": "Python 3.10.1 64-bit",
   "language": "python",
   "name": "python3"
  },
  "language_info": {
   "codemirror_mode": {
    "name": "ipython",
    "version": 3
   },
   "file_extension": ".py",
   "mimetype": "text/x-python",
   "name": "python",
   "nbconvert_exporter": "python",
   "pygments_lexer": "ipython3",
   "version": "3.10.1"
  },
  "orig_nbformat": 4
 },
 "nbformat": 4,
 "nbformat_minor": 2
}
