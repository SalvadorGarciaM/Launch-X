{
 "cells": [
  {
   "cell_type": "markdown",
   "metadata": {},
   "source": [
    "# Ejercicio: Uso de funciones en Python\n",
    "\n",
    "## Ejercicio 1: Trabajar con argumentos en funciones\n",
    "\n",
    "Los argumentos requeridos en las funciones se utilizan cuando las funciones necesitan que esos argumentos funcionen correctamente. En este ejercicio, construirás un informe de combustible que requiere información de varias ubicaciones de combustible en todo el cohete."
   ]
  },
  {
   "cell_type": "code",
   "execution_count": 10,
   "metadata": {},
   "outputs": [
    {
     "name": "stdout",
     "output_type": "stream",
     "text": [
      "Reporte Integral de Gas:\n",
      "    Promedio total: 78.33333333333333%\n",
      "    Tanque #1: 80%\n",
      "    Tanque #2: 70%\n",
      "    Tanque #3: 85% \n",
      "    \n",
      "Reporte Integral de Gas renovado:\n",
      "    Promedio total: 78.0%\n",
      "    Tanque #1: 88%\n",
      "    Tanque #2: 76%\n",
      "    Tanque #3: 70% \n",
      "    \n"
     ]
    }
   ],
   "source": [
    "# VARIABLES A DECLARAR\n",
    "\n",
    "def genera_reporte(tanque1, tanque2, tanque3):\n",
    "    promedio_total = (tanque1 + tanque2 + tanque3) / 3\n",
    "    return f\"\"\"Reporte Integral de Gas:\n",
    "    Promedio total: {promedio_total}%\n",
    "    Tanque #1: {tanque1}%\n",
    "    Tanque #2: {tanque2}%\n",
    "    Tanque #3: {tanque3}% \n",
    "    \"\"\"\n",
    "# GENERAMOS REPORTE\n",
    "print(genera_reporte(80, 70, 85))\n",
    "\n",
    "# PROMEDIO\n",
    "def Promedio(valores):\n",
    "    total = sum(valores)\n",
    "    numero_de_items = len(valores)\n",
    "    return total / numero_de_items\n",
    "\n",
    "# VERIFICAMOS LA FUNCION PROMEDIO\n",
    "Promedio([80, 85, 81])\n",
    "\n",
    "# ACTUALIZACIÓN DE LA FUNCION GENERA_REPORTE\n",
    "def genera_reporte(tanque1, tanque2, tanque3):\n",
    "    return f\"\"\"Reporte Integral de Gas renovado:\n",
    "    Promedio total: {Promedio([tanque1, tanque2, tanque3])}%\n",
    "    Tanque #1: {tanque1}%\n",
    "    Tanque #2: {tanque2}%\n",
    "    Tanque #3: {tanque3}% \n",
    "    \"\"\"\n",
    "\n",
    "# GENERAMOS REPORTE RENOVADO\n",
    "print(genera_reporte(88, 76, 70))"
   ]
  },
  {
   "cell_type": "markdown",
   "metadata": {},
   "source": [
    "# Ejercicio 2: Trabajo con argumentos de palabra clave\n",
    "\n",
    "## Ejercicio : Trabajar con argumentos de palabras clave en funciones\n",
    "\n",
    "En este ejercicio, construirás un informe de cohete que requiere varias piezas de información, como el tiempo hasta el destino, el combustible a la izquierda y el nombre del destino. Comienza por crear una función que creará un informe preciso de la misión:"
   ]
  },
  {
   "cell_type": "code",
   "execution_count": 21,
   "metadata": {},
   "outputs": [
    {
     "name": "stdout",
     "output_type": "stream",
     "text": [
      " Primer reporte de vuelo espacial\n",
      "    Misión al planeta Marte\n",
      "    Tiempo total de viaje: 989 minutos\n",
      "    Combustible total restante: 1331000 galones\n",
      "    \n",
      " Segundo reporte de vuelo espacial\n",
      "    Misión al planeta Jupiter\n",
      "    Tiempo total de viaje: 5899 minutos\n",
      "    Combustible total restante: 1331000 galones\n",
      "    \n",
      " Tercer reporte de vuelo espacial\n",
      "    Misión al planeta Saturno\n",
      "    Tiempo total de viaje: 74 minutes\n",
      "    Combustible total restante: 1331000\n",
      "    Tanque_Externo contiene 575000 galones restantes\n",
      "Tanque_Interno contiene 756000 galones restantes\n",
      "\n"
     ]
    }
   ],
   "source": [
    "\n",
    "\n",
    "def Reporte_de_misión(tiempo_previo_despegue, tiempo_de_vuelo, destino, Tanque_Externo, Tanque_Interno):\n",
    "    return f\"\"\" Primer reporte de vuelo espacial\n",
    "    Misión al planeta {destino}\n",
    "    Tiempo total de viaje: {tiempo_previo_despegue + tiempo_de_vuelo} minutos\n",
    "    Combustible total restante: {Tanque_Externo + Tanque_Interno} galones\n",
    "    \"\"\"\n",
    "print(Reporte_de_misión(14, 975, \"Marte\", 575000, 756000))\n",
    "\n",
    "\n",
    "\n",
    "def Reporte_de_misión(destino, *minutos, **Combustible_de_reserva):\n",
    "    return f\"\"\" Segundo reporte de vuelo espacial\n",
    "    Misión al planeta {destino}\n",
    "    Tiempo total de viaje: {sum(minutos)} minutos\n",
    "    Combustible total restante: {sum(Combustible_de_reserva.values())} galones\n",
    "    \"\"\"\n",
    "print(Reporte_de_misión(\"Jupiter\", 14, 21, 5864, Tanque_Externo=575000, Tanque_Interno=756000))\n",
    "\n",
    "\n",
    "\n",
    "def Reporte_de_misión(destino, *minutos, **Combustible_de_reserva):\n",
    "    reporte_principal = f\"\"\" Tercer reporte de vuelo espacial\n",
    "    Misión al planeta {destino}\n",
    "    Tiempo total de viaje: {sum(minutos)} minutes\n",
    "    Combustible total restante: {sum(Combustible_de_reserva.values())}\n",
    "    \"\"\"\n",
    "    for nombre_del_tanque, galones in Combustible_de_reserva.items():\n",
    "        reporte_principal += f\"{nombre_del_tanque} contiene {galones} galones restantes\\n\"\n",
    "    return reporte_principal\n",
    "print(Reporte_de_misión(\"Saturno\", 8, 11, 55, Tanque_Externo=575000, Tanque_Interno=756000))"
   ]
  }
 ],
 "metadata": {
  "interpreter": {
   "hash": "f83fe35de321addf61ea9aaf3f263d45fe22ebb93a9f25e9701f7dd9c9f5d317"
  },
  "kernelspec": {
   "display_name": "Python 3.10.1 64-bit",
   "language": "python",
   "name": "python3"
  },
  "language_info": {
   "codemirror_mode": {
    "name": "ipython",
    "version": 3
   },
   "file_extension": ".py",
   "mimetype": "text/x-python",
   "name": "python",
   "nbconvert_exporter": "python",
   "pygments_lexer": "ipython3",
   "version": "3.10.1"
  },
  "orig_nbformat": 4
 },
 "nbformat": 4,
 "nbformat_minor": 2
}
