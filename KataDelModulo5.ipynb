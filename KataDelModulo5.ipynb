{
 "cells": [
  {
   "cell_type": "markdown",
   "metadata": {},
   "source": [
    "## Ejercicio1 - Utilizar operadores aritméticos\n",
    "Operadores aritméticos en Python\n",
    "Python proporciona operadores aritméticos comunes para que puedas realizar operaciones matemáticas en tu código. Estos incluyen las cuatro operaciones principales de suma, resta, multiplicación y división.\n",
    "\n",
    "Exploremos cómo podemos crear un programa que pueda calcular la distancia entre dos planetas. Comenzaremos usando dos distancias de planetas: Tierra (149.597.870 km) y Júpiter (778.547.200 km)."
   ]
  },
  {
   "cell_type": "code",
   "execution_count": 2,
   "metadata": {},
   "outputs": [
    {
     "name": "stdout",
     "output_type": "stream",
     "text": [
      "La distancia en kilometros es de: 628949330\n",
      "La distancia en millas es de: 390577533.93\n"
     ]
    }
   ],
   "source": [
    "# Crear variables para almacenar las dos distancias\n",
    "# ¡Asegúrate de quitar las comas!\n",
    "\n",
    "first_planet = 149597870\n",
    "second_planet = 778547200\n",
    "# Calcular la distancia entre planetas\n",
    "\n",
    "distance_km = second_planet - first_planet\n",
    "print(\"La distancia en kilometros es de:\" ,distance_km)\n",
    "\n",
    "distance_mi = distance_km * 0.621\n",
    "print(\"La distancia en millas es de:\" ,distance_mi)"
   ]
  },
  {
   "cell_type": "markdown",
   "metadata": {},
   "source": [
    "## Ejercicio 2: convierte cadenas en números y usa valores absolutos\n",
    "Crear una aplicación para trabajar con números y entrada de usuario\n",
    "Con frecuencia, deberás convertir los valores de cadena en números para realizar correctamente diferentes operaciones o determinar el valor absoluto de un número.\n",
    "\n",
    "Para crear nuestra aplicación, queremos leer la distancia del sol para dos planetas, y luego mostrar la distancia entre los planetas. Haremos esto usando input para leer los valores, int para convertir a entero y luego abs para convertir el resultado en su valor absoluto."
   ]
  },
  {
   "cell_type": "code",
   "execution_count": 3,
   "metadata": {},
   "outputs": [
    {
     "name": "stdout",
     "output_type": "stream",
     "text": [
      "Introduzca la distancia del sol para el primer planeta en KM: \n",
      "12546\n",
      "Introduzca la distancia desde el sol para el segundo planeta en KM: \n",
      "66542\n",
      "La distancia en kilometros es de: 53996\n",
      "La distancia en millas es de: 33531.516\n"
     ]
    }
   ],
   "source": [
    "# Almacenar las entradas del usuario\n",
    "print('Introduzca la distancia del sol para el primer planeta en KM: ')\n",
    "Primer_Planeta = input('Introduzca la distancia del sol para el primer planeta en KM')\n",
    "print (Primer_Planeta)\n",
    "print('Introduzca la distancia desde el sol para el segundo planeta en KM: ')\n",
    "Segundo_planeta = input('Introduzca la distancia desde el sol para el segundo planeta en KM')\n",
    "print (Segundo_planeta)\n",
    "\n",
    "# Convierte las cadenas de ambos planetas a números enteros\n",
    "Primer_Planeta = int(Primer_Planeta)\n",
    "Segundo_planeta = int(Segundo_planeta)\n",
    "\n",
    "# Realizar el cálculo y determinar el valor absoluto\n",
    "Distancia_en_KM = Segundo_planeta - Primer_Planeta\n",
    "print(\"La distancia en kilometros es de:\" , Distancia_en_KM)\n",
    "\n",
    "# Convertir de KM a Millas\n",
    "Distancia_en_Millas = Distancia_en_KM * 0.621\n",
    "print(\"La distancia en millas es de:\" , abs(Distancia_en_Millas))"
   ]
  }
 ],
 "metadata": {
  "interpreter": {
   "hash": "f83fe35de321addf61ea9aaf3f263d45fe22ebb93a9f25e9701f7dd9c9f5d317"
  },
  "kernelspec": {
   "display_name": "Python 3.10.1 64-bit",
   "language": "python",
   "name": "python3"
  },
  "language_info": {
   "codemirror_mode": {
    "name": "ipython",
    "version": 3
   },
   "file_extension": ".py",
   "mimetype": "text/x-python",
   "name": "python",
   "nbconvert_exporter": "python",
   "pygments_lexer": "ipython3",
   "version": "3.10.1"
  },
  "orig_nbformat": 4
 },
 "nbformat": 4,
 "nbformat_minor": 2
}
