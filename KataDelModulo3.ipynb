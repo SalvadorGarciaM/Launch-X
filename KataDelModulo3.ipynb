{
 "cells": [
  {
   "cell_type": "markdown",
   "metadata": {},
   "source": [
    "## Ejercicio - Escribir declaraciones if, else, y elif\n",
    "Para este ejercicio, escribirás una lógica condicional que imprima una advertencia si un asteroide se acerca a la Tierra demasiado rápido. La velocidad del asteroide varía dependiendo de lo cerca que esté del sol, y cualquier velocidad superior a 25 kilómetros por segundo (km/s) merece una advertencia.\n",
    "\n",
    "Un asteroide se acerca, y viaja a una velocidad de 49 km/s.\n"
   ]
  },
  {
   "cell_type": "code",
   "execution_count": 1,
   "metadata": {},
   "outputs": [
    {
     "name": "stdout",
     "output_type": "stream",
     "text": [
      "¡ADVERTENCIA, La tierra peligra ante un posible impacto de un asteroide con alta velocidad!\n"
     ]
    }
   ],
   "source": [
    "Vel_Asteroide = 84\n",
    "if Vel_Asteroide > 25:\n",
    "    print('¡ADVERTENCIA, La tierra peligra ante un posible impacto de un asteroide con alta velocidad!')\n",
    "else:\n",
    "    print('El espacio sigue en paz')"
   ]
  },
  {
   "cell_type": "markdown",
   "metadata": {},
   "source": [
    "Si un asteroide entra en la atmósfera de la Tierra a una velocidad mayor o igual a 20 km/s, a veces produce un rayo de luz que se puede ver desde la Tierra. Escribe la lógica condicional que usa declaraciones if, else, y elif para alertar a las personas de todo el mundo que deben buscar un asteroide en el cielo. ¡Hay uno que se dirige a la tierra ahora a una velocidad de 19 km/s!"
   ]
  },
  {
   "cell_type": "code",
   "execution_count": 2,
   "metadata": {},
   "outputs": [
    {
     "name": "stdout",
     "output_type": "stream",
     "text": [
      "Miren el cielo, será un alien, superman, no, es un rayo de luz meteora\n"
     ]
    }
   ],
   "source": [
    "Vel_Asteroide = 84\n",
    "if Vel_Asteroide > 20:\n",
    "    print('Miren el cielo, será un alien, superman, no, es un rayo de luz meteora')\n",
    "elif Vel_Asteroide == 20:\n",
    "    print('Miren el cielo, será un alien, superman, no, es un rayo de luz meteora')\n",
    "else:\n",
    "    print('Nada por publicitar')"
   ]
  },
  {
   "cell_type": "markdown",
   "metadata": {},
   "source": [
    "En este ejercicio, aprenderás información más matizada sobre cuándo los asteroides representan un peligro para la Tierra, y utilizarás esa información para mejorar nuestro sistema de advertencia. Aquí está la nueva información que necesitas saber:\n",
    "\n",
    "*Los asteroides de menos de 25 metros en su dimensión más grande probablemente se quemarán a medida que entren en la atmósfera de la Tierra.\n",
    "\n",
    "Si una pieza de un asteroide que es más grande que 25 metros pero más pequeña que 1000 metros golpeara la Tierra, causaría mucho daño.\n",
    "También discutimos en el ejercicio anterior que:\n",
    "\n",
    "La velocidad del asteroide varía en función de lo cerca que esté del sol, y cualquier velocidad superior a 25 kilómetros por segundo (km/s) merece una advertencia.\n",
    "Si un asteroide entra en la atmósfera de la Tierra a una velocidad mayor o igual a 20 km/s, a veces produce un rayo de luz que se puede ver desde la Tierra.\n",
    "Usando toda esta información, escribe un programa que emita la advertencia o información correcta a la gente de la Tierra, según la velocidad y el tamaño de un asteroide. Utiliza instrucciones if, else, y elif, así como los operadores and y or."
   ]
  },
  {
   "cell_type": "code",
   "execution_count": 4,
   "metadata": {},
   "outputs": [
    {
     "name": "stdout",
     "output_type": "stream",
     "text": [
      "Peligro, Impacto inminente de un asteroide hacia la Tierra\n"
     ]
    }
   ],
   "source": [
    "Vel_Asteroide = 284\n",
    "Tam_Asteroide = 26\n",
    "if Vel_Asteroide > 25 and Tam_Asteroide > 25:\n",
    "    print('Peligro, Impacto inminente de un asteroide hacia la Tierra')\n",
    "elif Vel_Asteroide >= 20:\n",
    "    print('Luces mágicas en un día común por el cielo')\n",
    "elif Tam_Asteroide < 25:\n",
    "    print('Todo bien, nada por que pronunciar')\n",
    "else:\n",
    "    print('Todo bien, nada por que pronuncia')"
   ]
  }
 ],
 "metadata": {
  "interpreter": {
   "hash": "f83fe35de321addf61ea9aaf3f263d45fe22ebb93a9f25e9701f7dd9c9f5d317"
  },
  "kernelspec": {
   "display_name": "Python 3.10.1 64-bit",
   "language": "python",
   "name": "python3"
  },
  "language_info": {
   "codemirror_mode": {
    "name": "ipython",
    "version": 3
   },
   "file_extension": ".py",
   "mimetype": "text/x-python",
   "name": "python",
   "nbconvert_exporter": "python",
   "pygments_lexer": "ipython3",
   "version": "3.10.1"
  },
  "orig_nbformat": 4
 },
 "nbformat": 4,
 "nbformat_minor": 2
}
